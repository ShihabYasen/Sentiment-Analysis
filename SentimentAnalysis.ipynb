{
  "cells": [
    {
      "cell_type": "markdown",
      "metadata": {
        "id": "KqQZbNcFS8Kq"
      },
      "source": [
        "\n",
        "# NLP Essentials Project"
      ]
    },
    {
      "cell_type": "markdown",
      "metadata": {
        "id": "OU-XGWLxIUj5"
      },
      "source": [
        "# Sentiment Analysis Online Movie Reviews\n",
        "\n",
        "### Project Scenario\n",
        "\n",
        "In a recent [market research](https://newsroom.ibm.com/IBMs-Global-AI-Adoption-Index-2021?lnk=ushpv18ai3) by IBM, almost one-third of IT professionals surveyed globally say their business is using Artificial Intelligence (AI). The survey reported almost half of businesses today are now using applications powered by natural language processing (NLP).\n",
        "\n",
        "NLP, specifically 'Sentiment Analysis', can provide a key business advantage by abstracting from unstructured text data the negative or positive attitude of the writer/author. This crucuial insight can help turn web data into market intelligence for the business. \n",
        "\n",
        "A request has been received from the web development department to add 'Sentiment Analysis' feature to a movie reviews page. \n",
        "\n",
        "The insights from the sentiment analysis will be used to promote more popular movies.  \n",
        "\n",
        "In this project, you are tasked to create a prototype NLP project that is capable of 'Sentiment Analysis' from movie reviews. \n",
        "\n",
        "---"
      ]
    },
    {
      "cell_type": "markdown",
      "metadata": {
        "id": "jZardAXlIRM_"
      },
      "source": [
        "In this assignment, you will be working **individually** on the 'Sentiment Analysis' project. \n",
        "\n",
        "Complete ALL THE TASKS ( From 1 to 7). You may refer to online documentation (e.g. keras, pandas, etc) for help on syntax. \n",
        "\n",
        "`No copying of codes wholesale is allowed.`\n",
        "\n",
        "Use a random_state = 42 where appropriate.\n",
        "\n",
        "Broadly, this project will require the following steps:\n",
        "\n",
        "1. Importing Various Modules.\n",
        "1.Problem scoping.\n",
        ">1.1. Defining problem statement using 4Ws (Who, What, Where, Why) problem canvas from the project scenario.\n",
        "\n",
        "2.Data acquisition and Data exploration.\n",
        ">2.1.Importing various modules.\n",
        "\n",
        ">2.2.Preparing the data.\n",
        "\n",
        ">>2.2.1. Preprocess Text.\n",
        "\n",
        ">>2.2.2. Perform image pre-processing and data augmentation.\n",
        "\n",
        ">>2.2.3.Split it into train, validate, and test datasets.\n",
        "\n",
        ">>2.2.4. Perform Feature Extraction Using TF-IDF.\n",
        "\n",
        "3.Modelling.\n",
        "\n",
        ">3.1. Create the model - Build a model based on Build a model based on Neural Network.\n",
        "\n",
        "\n",
        "\n"
      ]
    },
    {
      "cell_type": "markdown",
      "metadata": {
        "id": "n7z61RpmTSoT"
      },
      "source": [
        "# Part 1 : Data loading and preliminary inspection\n",
        "\n",
        "The data for this project will be from `polarity dataset 2.0` collected by [Bo Pang and colleagues from Cornell Univeristy](http://www.cs.cornell.edu/people/pabo/movie-review-data/). \n",
        "\n",
        "*(This dataset will be provided to you.)*\n",
        "\n",
        "It was used for the paper published in 2002 called Thumbs up?\n",
        "Sentiment Classification using Machine Learning Techniques, by Bo Pang, Lilian Lee, and Shivakumar Vaithyanathan.\n"
      ]
    },
    {
      "cell_type": "markdown",
      "metadata": {},
      "source": [
        "## \n",
        "### $\\color{red}{\\text{NOTE: IF YOU DO NOT HAVE A PERSONAL PC TO WORK ON}}$\n",
        "### (If you have, skip Part 1)\n",
        "\n",
        "The following code is given if you are going to use it on google colab.\n",
        "\n",
        "Load the given dataset according the folder structure.\n"
      ]
    },
    {
      "cell_type": "code",
      "execution_count": null,
      "metadata": {
        "colab": {
          "base_uri": "https://localhost:8080/"
        },
        "id": "D1bJzPL-Txpk",
        "outputId": "bb4f9574-4c82-42cc-cbf8-ad4126c1d31a"
      },
      "outputs": [],
      "source": []
    },
    {
      "cell_type": "markdown",
      "metadata": {
        "id": "cxQA4JjLUUk4"
      },
      "source": [
        "### Folder Structure\n",
        "**Reminder**\n",
        "\n",
        "In your google drive folder ensure you have the following directory structure set up:\n",
        "```\n",
        "Directory Structure In Google Drive:\n",
        "MyDrive\n",
        "|\n",
        "+-- ITE\n",
        "     |\n",
        "     +--NLP\n",
        "        |\n",
        "        +--Project\n",
        "          |\n",
        "          +data\n",
        "              |\n",
        "              +--pos\n",
        "              |\n",
        "              +--neg\n",
        "         \n",
        "```            \n"
      ]
    },
    {
      "cell_type": "markdown",
      "metadata": {
        "id": "VAdsyulajFRD"
      },
      "source": [
        "## Task 2: Data acquisition and Data exploration.\n",
        "\n",
        "Collect an additional 30 samples of positive reviews and 30 samples of negative reviews from this website:\n",
        "https://www.rottentomatoes.com/browse/movies_in_theaters/sort:newest?page=1\n",
        "\n",
        "\n",
        "Add these to the given dataset respectively. \n",
        "\n",
        "The final dataset should have 1000 positive reviews and 1000 negative reviews. \n"
      ]
    },
    {
      "cell_type": "code",
      "execution_count": 1,
      "metadata": {
        "cellView": "form",
        "colab": {
          "base_uri": "https://localhost:8080/",
          "height": 625
        },
        "id": "ZEuYk2uXlS18",
        "outputId": "7a33f64e-2d64-4d34-9ce4-015f96cd8204"
      },
      "outputs": [
        {
          "data": {
            "text/plain": [
              "' \\n# Use this code if you are doing on colab  \\n\\nf, ax=plt.subplots(1,2, figsize=(20,20)) \\npic_name1 = path+\"ReviewsScreenCapture.jpg\"\\npic_name2=path+\"MoviesPage.jpg\"\\n\\nax[1].title.set_text(\"From the movie page, scroll down to see the critic reviews. \\nSelect the positive or negative reviews.\")\\nax[1].imshow(plt.imread(pic_name1))\\n\\nax[0].title.set_text(\"Scroll through the movie page and select any movies.\")\\nax[0].imshow(plt.imread(pic_name2))\\nplt.axis(\\'off\\')\\n'"
            ]
          },
          "execution_count": 1,
          "metadata": {},
          "output_type": "execute_result"
        }
      ],
      "source": [
        "# #@markdown { \"tags\": \"hide-ouput\" }\n",
        "\n",
        "# import matplotlib.pyplot as plt\n",
        "\n",
        "''' \n",
        "# Use this code if you are doing on colab  \n",
        "\n",
        "f, ax=plt.subplots(1,2, figsize=(20,20)) \n",
        "pic_name1 = path+\"ReviewsScreenCapture.jpg\"\n",
        "pic_name2=path+\"MoviesPage.jpg\"\n",
        "\n",
        "ax[1].title.set_text(\"From the movie page, scroll down to see the critic reviews. \\nSelect the positive or negative reviews.\")\n",
        "ax[1].imshow(plt.imread(pic_name1))\n",
        "\n",
        "ax[0].title.set_text(\"Scroll through the movie page and select any movies.\")\n",
        "ax[0].imshow(plt.imread(pic_name2))\n",
        "plt.axis('off')\n",
        "'''\n",
        "\n",
        "# Use this code if you are doing on your PC\n",
        "\n",
        "# f, ax=plt.subplots(1,2, figsize=(20,20)) \n",
        "# pic_name1 = \"ReviewsScreenCapture.jpg\"\n",
        "# pic_name2 = \"MoviesPage.jpg\"\n",
        "\n",
        "# ax[1].title.set_text(\"From the movie page, scroll down to see the critic reviews. \\nSelect the positive or negative reviews.\")\n",
        "# ax[1].imshow(plt.imread(pic_name1))\n",
        "\n",
        "# ax[0].title.set_text(\"Scroll through the movie page and select any movies.\")\n",
        "# ax[0].imshow(plt.imread(pic_name2))\n",
        "# plt.axis('off')"
      ]
    },
    {
      "cell_type": "markdown",
      "metadata": {},
      "source": [
        "## Sample Guide on how to load your data\n",
        "\n",
        "You do not need to follow this code, use your own code if you prefer to."
      ]
    },
    {
      "cell_type": "code",
      "execution_count": 2,
      "metadata": {
        "id": "2HZ56235TxA6"
      },
      "outputs": [],
      "source": [
        "# The following codes in this cell are provided as a guide. \n",
        "\n",
        "import os\n",
        "\n",
        "def read_in(folder):\n",
        "    files = os.listdir(folder)\n",
        "    a_dict = {}\n",
        "    for a_file in sorted(files):\n",
        "        if not a_file.startswith(\".\"):\n",
        "            with open(folder + a_file, encoding='ISO-8859-1', errors ='ignore') as f:\n",
        "                file_id = a_file.split(\".\")[0].strip()\n",
        "                a_dict[file_id] = f.read()\n",
        "            f.close()\n",
        "    return a_dict"
      ]
    },
    {
      "cell_type": "markdown",
      "metadata": {
        "id": "vBPYIYD3U2Tq"
      },
      "source": [
        "Print out the number of reviews in positive and negative dictionaries, as well as the very first positive and very first negative reviews in the dictionaries."
      ]
    },
    {
      "cell_type": "code",
      "execution_count": 3,
      "metadata": {
        "colab": {
          "base_uri": "https://localhost:8080/"
        },
        "id": "sVqNGaDmTw55",
        "outputId": "49329a86-874b-4020-ee65-add20acf9bbf"
      },
      "outputs": [
        {
          "name": "stdout",
          "output_type": "stream",
          "text": [
            "1000\n",
            "films adapted from comic books have had plenty of success , whether they're about superheroes ( batman , superman , spawn ) , or geared toward kids ( casper ) or the arthouse crowd ( ghost world ) , but there's never really been a comic book like from hell before . \n",
            "for starters , it was created by alan moore ( and eddie campbell ) , who brought the medium to a whole new level in the mid '80s with a 12-part series called the watchmen . \n",
            "to say moore and campbell thoroughly researched the subject of jack the ripper would be like saying michael jackson is starting to look a little odd . \n",
            "the book ( or \" graphic novel , \" if you will ) is over 500 pages long and includes nearly 30 more that consist of nothing but footnotes . \n",
            "in other words , don't dismiss this film because of its source . \n",
            "if you can get past the whole comic book thing , you might find another stumbling block in from hell's directors , albert and allen hughes . \n",
            "getting the hughes brothers to direct this seems almost as ludicrous as casting carrot top in , well , anything , but riddle me this : who better to direct a film that's set in the ghetto and features really violent street crime than the mad geniuses behind menace ii society ? \n",
            "the ghetto in question is , of course , whitechapel in 1888 london's east end . \n",
            "it's a filthy , sooty place where the whores ( called \" unfortunates \" ) are starting to get a little nervous about this mysterious psychopath who has been carving through their profession with surgical precision . \n",
            "when the first stiff turns up , copper peter godley ( robbie coltrane , the world is not enough ) calls in inspector frederick abberline ( johnny depp , blow ) to crack the case . \n",
            "abberline , a widower , has prophetic dreams he unsuccessfully tries to quell with copious amounts of absinthe and opium . \n",
            "upon arriving in whitechapel , he befriends an unfortunate named mary kelly ( heather graham , say it isn't so ) and proceeds to investigate the horribly gruesome crimes that even the police surgeon can't stomach . \n",
            "i don't think anyone needs to be briefed on jack the ripper , so i won't go into the particulars here , other than to say moore and campbell have a unique and interesting theory about both the identity of the killer and the reasons he chooses to slay . \n",
            "in the comic , they don't bother cloaking the identity of the ripper , but screenwriters terry hayes ( vertical limit ) and rafael yglesias ( les mis ? rables ) do a good job of keeping him hidden from viewers until the very end . \n",
            "it's funny to watch the locals blindly point the finger of blame at jews and indians because , after all , an englishman could never be capable of committing such ghastly acts . \n",
            "and from hell's ending had me whistling the stonecutters song from the simpsons for days ( \" who holds back the electric car/who made steve guttenberg a star ? \" ) . \n",
            "don't worry - it'll all make sense when you see it . \n",
            "now onto from hell's appearance : it's certainly dark and bleak enough , and it's surprising to see how much more it looks like a tim burton film than planet of the apes did ( at times , it seems like sleepy hollow 2 ) . \n",
            "the print i saw wasn't completely finished ( both color and music had not been finalized , so no comments about marilyn manson ) , but cinematographer peter deming ( don't say a word ) ably captures the dreariness of victorian-era london and helped make the flashy killing scenes remind me of the crazy flashbacks in twin peaks , even though the violence in the film pales in comparison to that in the black-and-white comic . \n",
            "oscar winner martin childs' ( shakespeare in love ) production design turns the original prague surroundings into one creepy place . \n",
            "even the acting in from hell is solid , with the dreamy depp turning in a typically strong performance and deftly handling a british accent . \n",
            "ians holm ( joe gould's secret ) and richardson ( 102 dalmatians ) log in great supporting roles , but the big surprise here is graham . \n",
            "i cringed the first time she opened her mouth , imagining her attempt at an irish accent , but it actually wasn't half bad . \n",
            "the film , however , is all good . \n",
            "2 : 00 - r for strong violence/gore , sexuality , language and drug content \n",
            "\n",
            "1000\n",
            "plot : two teen couples go to a church party , drink and then drive . \n",
            "they get into an accident . \n",
            "one of the guys dies , but his girlfriend continues to see him in her life , and has nightmares . \n",
            "what's the deal ? \n",
            "watch the movie and \" sorta \" find out . . . \n",
            "critique : a mind-fuck movie for the teen generation that touches on a very cool idea , but presents it in a very bad package . \n",
            "which is what makes this review an even harder one to write , since i generally applaud films which attempt to break the mold , mess with your head and such ( lost highway & memento ) , but there are good and bad ways of making all types of films , and these folks just didn't snag this one correctly . \n",
            "they seem to have taken this pretty neat concept , but executed it terribly . \n",
            "so what are the problems with the movie ? \n",
            "well , its main problem is that it's simply too jumbled . \n",
            "it starts off \" normal \" but then downshifts into this \" fantasy \" world in which you , as an audience member , have no idea what's going on . \n",
            "there are dreams , there are characters coming back from the dead , there are others who look like the dead , there are strange apparitions , there are disappearances , there are a looooot of chase scenes , there are tons of weird things that happen , and most of it is simply not explained . \n",
            "now i personally don't mind trying to unravel a film every now and then , but when all it does is give me the same clue over and over again , i get kind of fed up after a while , which is this film's biggest problem . \n",
            "it's obviously got this big secret to hide , but it seems to want to hide it completely until its final five minutes . \n",
            "and do they make things entertaining , thrilling or even engaging , in the meantime ? \n",
            "not really . \n",
            "the sad part is that the arrow and i both dig on flicks like this , so we actually figured most of it out by the half-way point , so all of the strangeness after that did start to make a little bit of sense , but it still didn't the make the film all that more entertaining . \n",
            "i guess the bottom line with movies like this is that you should always make sure that the audience is \" into it \" even before they are given the secret password to enter your world of understanding . \n",
            "i mean , showing melissa sagemiller running away from visions for about 20 minutes throughout the movie is just plain lazy ! ! \n",
            "okay , we get it . . . there \n",
            "are people chasing her and we don't know who they are . \n",
            "do we really need to see it over and over again ? \n",
            "how about giving us different scenes offering further insight into all of the strangeness going down in the movie ? \n",
            "apparently , the studio took this film away from its director and chopped it up themselves , and it shows . \n",
            "there might've been a pretty decent teen mind-fuck movie in here somewhere , but i guess \" the suits \" decided that turning it into a music video with little edge , would make more sense . \n",
            "the actors are pretty good for the most part , although wes bentley just seemed to be playing the exact same character that he did in american beauty , only in a new neighborhood . \n",
            "but my biggest kudos go out to sagemiller , who holds her own throughout the entire film , and actually has you feeling her character's unraveling . \n",
            "overall , the film doesn't stick because it doesn't entertain , it's confusing , it rarely excites and it feels pretty redundant for most of its runtime , despite a pretty cool ending and explanation to all of the craziness that came before it . \n",
            "oh , and by the way , this is not a horror or teen slasher flick . . . it's \n",
            "just packaged to look that way because someone is apparently assuming that the genre is still hot with the kids . \n",
            "it also wrapped production two years ago and has been sitting on the shelves ever since . \n",
            "whatever . . . skip \n",
            "it ! \n",
            "where's joblo coming from ? \n",
            "a nightmare of elm street 3 ( 7/10 ) - blair witch 2 ( 7/10 ) - the crow ( 9/10 ) - the crow : salvation ( 4/10 ) - lost highway ( 10/10 ) - memento ( 10/10 ) - the others ( 9/10 ) - stir of echoes ( 8/10 ) \n",
            "\n"
          ]
        }
      ],
      "source": [
        "# The following codes in this cell are provided as a guide\n",
        "\n",
        "\n",
        "# Use this folder path if doing on colab\n",
        "# folder=path+'data/'\n",
        "\n",
        "folder = 'data/'\n",
        "pos_dict = read_in(folder + \"pos/\")\n",
        "print(len(pos_dict))\n",
        "print(pos_dict.get(next(iter(pos_dict))))\n",
        "\n",
        "neg_dict = read_in(folder + \"neg/\")\n",
        "print(len(neg_dict))\n",
        "print(neg_dict.get(next(iter(neg_dict))))"
      ]
    },
    {
      "cell_type": "markdown",
      "metadata": {
        "id": "xUG4SCEAh5qz"
      },
      "source": [
        "## Task 2.1: Importing various modules - Data Cleansing\n",
        "\n",
        "Import the relevant NLTK libraries. "
      ]
    },
    {
      "cell_type": "code",
      "execution_count": 4,
      "metadata": {
        "colab": {
          "base_uri": "https://localhost:8080/"
        },
        "id": "x42w62DY-FFQ",
        "outputId": "73a330f8-2e96-4e50-b3d5-33fbae897ac5"
      },
      "outputs": [
        {
          "name": "stderr",
          "output_type": "stream",
          "text": [
            "[nltk_data] Downloading package punkt to\n",
            "[nltk_data]     C:\\Users\\Family\\AppData\\Roaming\\nltk_data...\n",
            "[nltk_data]   Package punkt is already up-to-date!\n",
            "[nltk_data] Downloading package wordnet to\n",
            "[nltk_data]     C:\\Users\\Family\\AppData\\Roaming\\nltk_data...\n",
            "[nltk_data]   Package wordnet is already up-to-date!\n",
            "[nltk_data] Downloading package stopwords to\n",
            "[nltk_data]     C:\\Users\\Family\\AppData\\Roaming\\nltk_data...\n",
            "[nltk_data]   Package stopwords is already up-to-date!\n"
          ]
        },
        {
          "data": {
            "text/plain": [
              "True"
            ]
          },
          "execution_count": 4,
          "metadata": {},
          "output_type": "execute_result"
        }
      ],
      "source": [
        "# The following codes in this cell are provided as a guide\n",
        "\n",
        "import nltk\n",
        "nltk.download('punkt')\n",
        "nltk.download('wordnet')\n",
        "nltk.download('stopwords')"
      ]
    },
    {
      "cell_type": "markdown",
      "metadata": {},
      "source": [
        "### Task 2.2: Data exploration\n",
        "\n",
        "Use methods and ideas that you can think of to explore the data.\n",
        "\n",
        "1. Showcase some interesting information about this data.\n",
        "2. Showcase any statistics about this data that can help you in your cleaning.\n",
        "\n",
        "$\\color{cyan}{\\text{Bonus marks will be award for interesting insights into the data}}$"
      ]
    },
    {
      "cell_type": "code",
      "execution_count": 5,
      "metadata": {},
      "outputs": [
        {
          "name": "stdout",
          "output_type": "stream",
          "text": [
            "Number of Positive: 1000\n",
            "Number of Negative: 1000\n"
          ]
        }
      ],
      "source": [
        "# Your code here\n",
        "\n",
        "number_positive = len(pos_dict)\n",
        "number_negative = len(neg_dict)\n",
        "print(f\"Number of Positive: {number_positive}\")\n",
        "print(f\"Number of Negative: {number_negative}\")\n",
        "\n",
        "\n",
        "\n",
        "\n"
      ]
    },
    {
      "cell_type": "code",
      "execution_count": 6,
      "metadata": {},
      "outputs": [
        {
          "data": {
            "text/plain": [
              "'\\n\\n\\nSome interesting write up from your exploration.\\nThere are 1000 positive and 1000 negative reviews.\\n\\n'"
            ]
          },
          "execution_count": 6,
          "metadata": {},
          "output_type": "execute_result"
        }
      ],
      "source": [
        "'''\n",
        "\n",
        "\n",
        "Some interesting write up from your exploration.\n",
        "There are 1000 positive and 1000 negative reviews.\n",
        "\n",
        "'''"
      ]
    },
    {
      "cell_type": "markdown",
      "metadata": {
        "id": "xphB0rnFp4QZ"
      },
      "source": [
        "### Task 2.2.1: Importing various modules - Add More Stops Words To NLTK\n",
        "\n",
        "Add the following to stopwords:\n",
        "1. 'www'\n",
        "2. '.com'\n",
        "3. 'http'"
      ]
    },
    {
      "cell_type": "code",
      "execution_count": 7,
      "metadata": {
        "colab": {
          "base_uri": "https://localhost:8080/"
        },
        "id": "glUoHkEC_0wG",
        "outputId": "154f739c-00dc-414b-94b2-54c6a09da961"
      },
      "outputs": [
        {
          "name": "stdout",
          "output_type": "stream",
          "text": [
            "['i', 'me', 'my', 'myself', 'we', 'our', 'ours', 'ourselves', 'you', \"you're\", \"you've\", \"you'll\", \"you'd\", 'your', 'yours', 'yourself', 'yourselves', 'he', 'him', 'his', 'himself', 'she', \"she's\", 'her', 'hers', 'herself', 'it', \"it's\", 'its', 'itself', 'they', 'them', 'their', 'theirs', 'themselves', 'what', 'which', 'who', 'whom', 'this', 'that', \"that'll\", 'these', 'those', 'am', 'is', 'are', 'was', 'were', 'be', 'been', 'being', 'have', 'has', 'had', 'having', 'do', 'does', 'did', 'doing', 'a', 'an', 'the', 'and', 'but', 'if', 'or', 'because', 'as', 'until', 'while', 'of', 'at', 'by', 'for', 'with', 'about', 'against', 'between', 'into', 'through', 'during', 'before', 'after', 'above', 'below', 'to', 'from', 'up', 'down', 'in', 'out', 'on', 'off', 'over', 'under', 'again', 'further', 'then', 'once', 'here', 'there', 'when', 'where', 'why', 'how', 'all', 'any', 'both', 'each', 'few', 'more', 'most', 'other', 'some', 'such', 'no', 'nor', 'not', 'only', 'own', 'same', 'so', 'than', 'too', 'very', 's', 't', 'can', 'will', 'just', 'don', \"don't\", 'should', \"should've\", 'now', 'd', 'll', 'm', 'o', 're', 've', 'y', 'ain', 'aren', \"aren't\", 'couldn', \"couldn't\", 'didn', \"didn't\", 'doesn', \"doesn't\", 'hadn', \"hadn't\", 'hasn', \"hasn't\", 'haven', \"haven't\", 'isn', \"isn't\", 'ma', 'mightn', \"mightn't\", 'mustn', \"mustn't\", 'needn', \"needn't\", 'shan', \"shan't\", 'shouldn', \"shouldn't\", 'wasn', \"wasn't\", 'weren', \"weren't\", 'won', \"won't\", 'wouldn', \"wouldn't\", 'www', '.com', 'http']\n"
          ]
        }
      ],
      "source": [
        "from nltk.corpus import stopwords\n",
        "\n",
        "stop = nltk.corpus.stopwords.words('english')\n",
        "# Add a few more stop words we would like to remove here\n",
        "##Complete the code below##\n",
        "newStopWords = ['www','.com','http']\n",
        "stop.extend(newStopWords)\n",
        "print(stop)"
      ]
    },
    {
      "cell_type": "markdown",
      "metadata": {
        "id": "YztI-66ODIgQ"
      },
      "source": [
        "### Task 2.2.2 : Process Text - Tokenize, Remove Punctuation, Lemmatize \n",
        "\n",
        "Complete the following 3 functions.\n",
        "\n",
        "Feel free to add additional cleaning functions and improve `process_text()` if you like to.\n",
        "\n",
        "Feel free to change the way the functions are written as well if you like to."
      ]
    },
    {
      "cell_type": "code",
      "execution_count": 8,
      "metadata": {
        "id": "H2pKCj4h_5Ax"
      },
      "outputs": [],
      "source": [
        "import string\n",
        "from nltk.tokenize import word_tokenize\n",
        "\n",
        "# tokenize text using nltk.\n",
        "def tokenize(text):\n",
        "  ##Complete the code below##\n",
        "  token = word_tokenize(text)\n",
        "\n",
        "  return token\n",
        "\n",
        "#remove punctuation from text using 'string.punctation'\n",
        "def remove_punctuation(text):\n",
        "  ##Complete the code below##\n",
        "  translator = str.maketrans(\"\", \"\", string.punctuation)\n",
        "  no_punctuation_text = [word.translate(translator) for word in text]\n",
        "\n",
        "  return no_punctuation_text\n",
        "\n",
        "#lemmatize sentence using 'nltk.stem.PorterStemmer'\n",
        "##Complete the code below##\n",
        "def lemmatize(sentence):\n",
        "    porter = nltk.stem.PorterStemmer()\n",
        "    ##Complete the code below##\n",
        "    lemmatize_words = [porter.stem(word) for word in sentence]\n",
        "\n",
        "    return lemmatize_words\n",
        "\n",
        "\n",
        "\n",
        "def process_text(text):\n",
        "    tokenized_text=tokenize(text)\n",
        "    no_punctuation_text=remove_punctuation(tokenized_text)\n",
        "    lemmas=lemmatize(no_punctuation_text)\n",
        "\n",
        "    processed = ' '.join([w.lower() for w in lemmas if w not in stop])\n",
        "    return processed\n"
      ]
    },
    {
      "cell_type": "markdown",
      "metadata": {
        "id": "7RTxICBzAvve"
      },
      "source": [
        "## Task 3: Randomly Combine Review Texts From Positive & Negative Reviews Data Sets. \n",
        "\n",
        "Preprocessed texts to remove punctuation, remove stop words and lemmatized the text.\n",
        "\n",
        "Combine all these texts into a single dataset where each preprocessed review and its label are in a format that is good for analysis: \n",
        "\n",
        "Example 1:\n",
        "\n",
        "**A tuple format**\n",
        "\n",
        "`data=[('preprocessed review text', label), ('preprocessed review text', label) ...]`\n",
        "\n",
        "* ('this movie is nice', 1)\n",
        "* ('this movie is lousy',0)\n",
        "\n",
        "Example 2:\n",
        "\n",
        "**A pandas dataframe format**\n",
        "```\n",
        "0\tone reviewer mentioned watching oz episode you...\t1\n",
        "1\twonderful little production br br filming tech...\t1\n",
        "2\tthought wonderful way spend time hot summer we...\t1\n",
        "3\tbasically there family little boy jake think t...\t0\n",
        "4\tpetter matteis love time money visually stunni...\t1\n",
        "```\n",
        "\n",
        "Label for positive and negative review:\n",
        "* `Positive review is given 1.`\n",
        "* `Negative review is given 0.`\n"
      ]
    },
    {
      "cell_type": "markdown",
      "metadata": {},
      "source": [
        "The following incomplete code is given as a guide as an example to load texts and labels into lists.\n",
        "\n",
        "You can prepare your own code to load it in any format that you wish."
      ]
    },
    {
      "cell_type": "code",
      "execution_count": 9,
      "metadata": {
        "colab": {
          "base_uri": "https://localhost:8080/"
        },
        "id": "Q_ZexM-eCcI8",
        "outputId": "d115d949-7474-4669-928c-7726b35bbbeb"
      },
      "outputs": [
        {
          "name": "stdout",
          "output_type": "stream",
          "text": [
            "                                    Processed Review  Label\n",
            "0  central focu michael winterbottom  welcom sara...      1\n",
            "1   fab 4  ronald reagan high four stuckup girl  ...      0\n",
            "2  save privat ryan  dreamwork  run time  2 hour ...      1\n",
            "3  must unwritten rule state  one get enlighten w...      1\n",
            "4  well  go expect  movi big snake eat peopl  thi...      0\n"
          ]
        }
      ],
      "source": [
        "import pandas as pd\n",
        "import random\n",
        "\n",
        "positive_reviews = [(review, 1) for review in pos_dict.values()]\n",
        "negative_reviews = [(review, 0) for review in neg_dict.values()]\n",
        "\n",
        "all_reviews = positive_reviews + negative_reviews\n",
        "\n",
        "random.seed(42)  \n",
        "random.shuffle(all_reviews)\n",
        "processed_reviews, labels = zip(*[(process_text(review), label) for review, label in all_reviews])\n",
        "\n",
        "df = pd.DataFrame({'Processed Review': processed_reviews, 'Label': labels})\n",
        "\n",
        "print(df.head())\n"
      ]
    },
    {
      "cell_type": "markdown",
      "metadata": {
        "id": "uZWbZ8u_fsj4"
      },
      "source": [
        "### Task 2.2.3: Split Dataset Into Train Test Sets.\n",
        "\n",
        "Split the texts into:\n",
        "\n",
        "1. 80% for training.\n",
        "2. 20% for testing."
      ]
    },
    {
      "cell_type": "markdown",
      "metadata": {},
      "source": [
        "The following incomplete code is given as a guide as an example to split the text data from a list.\n",
        "\n",
        "You can prepare your own code to split it in any format that you wish."
      ]
    },
    {
      "cell_type": "code",
      "execution_count": 10,
      "metadata": {
        "colab": {
          "base_uri": "https://localhost:8080/"
        },
        "id": "cjYc9xx4f03u",
        "outputId": "8c4132aa-e885-4e44-f257-4c9c9803b7ca"
      },
      "outputs": [
        {
          "name": "stdout",
          "output_type": "stream",
          "text": [
            "1600\n",
            "1600\n",
            "400\n",
            "400\n",
            "(1, 0, 1, 1, 0, 0, 0, 0, 1, 0)\n",
            "(0, 1, 1, 0, 0, 1, 0, 1, 1, 1)\n"
          ]
        }
      ],
      "source": [
        "def split(texts, labels, proportion):\n",
        "    train_data = []\n",
        "    train_targets = []\n",
        "    test_data = []\n",
        "    test_targets = []\n",
        "    ##Complete the code below##\n",
        "    num_train = int(len(texts) * proportion)\n",
        "    train_data = texts[:num_train]\n",
        "    train_targets = labels[:num_train]\n",
        "    test_data = texts[num_train:]\n",
        "    test_targets = labels[num_train:]\n",
        "    \n",
        "    return train_data, train_targets, test_data, test_targets\n",
        "\n",
        "train_data, train_targets, test_data, test_targets = split(processed_reviews, labels, 0.8)\n",
        "        \n",
        "print(len(train_data)) # 1600?\n",
        "print(len(train_targets)) # 1600?      \n",
        "print(len(test_data)) # 400?       \n",
        "print(len(test_targets)) # 400? \n",
        "print(train_targets[:10]) # print out the targets for the first 10 training reviews \n",
        "print(test_targets[:10]) # print out the targets for the first 10 test reviews "
      ]
    },
    {
      "cell_type": "code",
      "execution_count": 11,
      "metadata": {
        "id": "vthiPHahf_D9"
      },
      "outputs": [],
      "source": [
        "# The following codes in this cell are provided as a guide\n",
        "\n",
        "from sklearn.feature_extraction.text import CountVectorizer\n",
        "from sklearn.feature_extraction.text import TfidfTransformer"
      ]
    },
    {
      "cell_type": "code",
      "execution_count": 12,
      "metadata": {
        "colab": {
          "base_uri": "https://localhost:8080/"
        },
        "id": "2r3xB1YWf-jr",
        "outputId": "35604c1e-d41d-4129-e741-2805fb8b780e"
      },
      "outputs": [
        {
          "name": "stdout",
          "output_type": "stream",
          "text": [
            "(1600, 500)\n",
            "(400, 500)\n"
          ]
        }
      ],
      "source": [
        "# The following codes in this cell are provided as a guide\n",
        "\n",
        "count_vect = CountVectorizer(analyzer = \"word\", strip_accents=None, tokenizer = None, \\\n",
        "                             preprocessor = None, stop_words = None, max_features = 500) \n",
        "\n",
        "\n",
        "train_data_features = count_vect.fit_transform(train_data)\n",
        "test_data_features = count_vect.transform(test_data)\n",
        "\n",
        "# Check the dimensionality \n",
        "print(train_data_features.shape)\n",
        "print(test_data_features.shape)\n"
      ]
    },
    {
      "cell_type": "markdown",
      "metadata": {
        "id": "B1N-iQ1OgY3R"
      },
      "source": [
        "The max features for CountVectorizer function has been set to 500. The parameter can be adjusted to improve results. "
      ]
    },
    {
      "cell_type": "code",
      "execution_count": 13,
      "metadata": {
        "colab": {
          "base_uri": "https://localhost:8080/"
        },
        "id": "duTwIdibglPM",
        "outputId": "17c35d00-e296-476b-c32c-b27a1e1c3bbc"
      },
      "outputs": [
        {
          "name": "stdout",
          "output_type": "stream",
          "text": [
            "  (0, 270)\t1\n",
            "  (0, 68)\t1\n",
            "  (0, 101)\t1\n",
            "  (0, 114)\t1\n",
            "  (0, 64)\t5\n",
            "  (0, 454)\t1\n",
            "  (0, 121)\t1\n",
            "  (0, 337)\t1\n",
            "  (0, 347)\t1\n",
            "  (0, 412)\t1\n",
            "  (0, 469)\t1\n",
            "  (0, 90)\t1\n",
            "  (0, 452)\t1\n",
            "  (0, 235)\t1\n",
            "  (0, 138)\t1\n",
            "  (0, 40)\t1\n",
            "  (0, 306)\t4\n",
            "  (0, 275)\t1\n",
            "  (0, 215)\t1\n",
            "  (0, 341)\t2\n",
            "  (0, 359)\t1\n",
            "  (0, 495)\t2\n",
            "  (0, 153)\t2\n",
            "  (0, 142)\t1\n",
            "  (0, 338)\t1\n",
            "  :\t:\n",
            "  (10, 76)\t1\n",
            "  (10, 240)\t1\n",
            "  (10, 272)\t1\n",
            "  (10, 130)\t1\n",
            "  (10, 344)\t2\n",
            "  (10, 358)\t1\n",
            "  (10, 440)\t1\n",
            "  (10, 234)\t1\n",
            "  (10, 123)\t1\n",
            "  (10, 243)\t1\n",
            "  (10, 379)\t2\n",
            "  (10, 320)\t1\n",
            "  (10, 455)\t2\n",
            "  (10, 193)\t1\n",
            "  (10, 137)\t1\n",
            "  (10, 190)\t1\n",
            "  (10, 426)\t2\n",
            "  (10, 217)\t1\n",
            "  (10, 280)\t1\n",
            "  (10, 405)\t1\n",
            "  (10, 413)\t1\n",
            "  (10, 122)\t1\n",
            "  (10, 154)\t1\n",
            "  (10, 295)\t1\n",
            "  (10, 352)\t1\n"
          ]
        }
      ],
      "source": [
        "print(train_data_features[:11])"
      ]
    },
    {
      "cell_type": "code",
      "execution_count": 14,
      "metadata": {
        "colab": {
          "base_uri": "https://localhost:8080/",
          "height": 35
        },
        "id": "wp7_XaOv2SCj",
        "outputId": "edb5eda8-07f2-4126-977d-ed4e7e0947f8"
      },
      "outputs": [
        {
          "data": {
            "text/plain": [
              "'piec'"
            ]
          },
          "execution_count": 14,
          "metadata": {},
          "output_type": "execute_result"
        }
      ],
      "source": [
        "count_vect.get_feature_names_out()[321]"
      ]
    },
    {
      "cell_type": "markdown",
      "metadata": {
        "id": "ukbIlTjn4S6j"
      },
      "source": [
        "# Part 2: Perform AI Natural Language Inference"
      ]
    },
    {
      "cell_type": "markdown",
      "metadata": {
        "id": "DYpkHhNgjov7"
      },
      "source": [
        "## Task 2.2.4: Feature Extraction Using TF-IDF\n",
        "\n",
        "Perform normalization of bag of words using the TfidfTransformer. Use it the same way as above. \n",
        "\n",
        "Create a class, and use the .fit_transform() method with the bag of words as your argument to create your TFIDF.\n"
      ]
    },
    {
      "cell_type": "code",
      "execution_count": 15,
      "metadata": {
        "id": "RqpdWC_Lhtyy"
      },
      "outputs": [],
      "source": [
        "tfidfier = TfidfTransformer()\n",
        "tfidf = tfidfier.fit_transform(train_data_features)\n",
        "tfidf_test = (test_data_features)"
      ]
    },
    {
      "cell_type": "code",
      "execution_count": 16,
      "metadata": {
        "id": "31KTX4Wsgw4O"
      },
      "outputs": [],
      "source": [
        "# The following codes in this cell are provided as a guide\n",
        "\n",
        "import numpy as np\n",
        "X_train = tfidf.toarray()\n",
        "y_train = np.array(train_targets)\n",
        "X_test = tfidf_test.toarray()\n",
        "y_test = np.array(test_targets)"
      ]
    },
    {
      "cell_type": "code",
      "execution_count": 17,
      "metadata": {
        "id": "dcK6wS0TJ-FE"
      },
      "outputs": [],
      "source": [
        "# The following codes in this cell are provided as a guide\n",
        "# Convert a vector with integers representing different categories \n",
        "# into binary form: [0,1,0,0 ... ] \n",
        "from tensorflow.keras.utils import to_categorical\n",
        "y_train=to_categorical(y_train-y_train.min(), dtype=\"int8\")\n",
        "y_test=to_categorical(y_test-y_test.min(),dtype=\"int8\")"
      ]
    },
    {
      "cell_type": "code",
      "execution_count": 18,
      "metadata": {
        "colab": {
          "base_uri": "https://localhost:8080/"
        },
        "id": "l0ZQ708o7Jkg",
        "outputId": "96807fe9-c0f1-4c44-8835-e0f1a1333127"
      },
      "outputs": [
        {
          "data": {
            "text/plain": [
              "array([0, 1], dtype=int8)"
            ]
          },
          "execution_count": 18,
          "metadata": {},
          "output_type": "execute_result"
        }
      ],
      "source": [
        "y_train[0]"
      ]
    },
    {
      "cell_type": "code",
      "execution_count": 19,
      "metadata": {
        "colab": {
          "base_uri": "https://localhost:8080/"
        },
        "id": "i7MUZA0X7SI3",
        "outputId": "321bf09d-b7c6-4e8f-f9bc-e646d15fc7fc"
      },
      "outputs": [
        {
          "data": {
            "text/plain": [
              "(array([0, 1], dtype=int8), array([798, 802], dtype=int64))"
            ]
          },
          "execution_count": 19,
          "metadata": {},
          "output_type": "execute_result"
        }
      ],
      "source": [
        "np.unique(y_train[:,1], return_counts=True)"
      ]
    },
    {
      "cell_type": "code",
      "execution_count": 20,
      "metadata": {
        "colab": {
          "base_uri": "https://localhost:8080/"
        },
        "id": "7C_m2SQP7Wwz",
        "outputId": "089fb69b-3976-49f8-af59-d1b0e6dd8b6d"
      },
      "outputs": [
        {
          "data": {
            "text/plain": [
              "array([[0, 1],\n",
              "       [1, 0],\n",
              "       [0, 1],\n",
              "       [0, 1],\n",
              "       [0, 1],\n",
              "       [0, 1],\n",
              "       [1, 0],\n",
              "       [0, 1],\n",
              "       [0, 1],\n",
              "       [1, 0]], dtype=int8)"
            ]
          },
          "execution_count": 20,
          "metadata": {},
          "output_type": "execute_result"
        }
      ],
      "source": [
        "y_test[-10:]"
      ]
    },
    {
      "cell_type": "markdown",
      "metadata": {
        "id": "724XQfCzmEXc"
      },
      "source": [
        "## Task 5: Create Model Using Neural Networks\n",
        "\n",
        "Create a suitable neural network and train it. \n"
      ]
    },
    {
      "cell_type": "code",
      "execution_count": 21,
      "metadata": {
        "colab": {
          "base_uri": "https://localhost:8080/"
        },
        "id": "_D31Qv_ol4X7",
        "outputId": "fa9ff366-d952-4790-b338-60f77974a495"
      },
      "outputs": [
        {
          "name": "stdout",
          "output_type": "stream",
          "text": [
            "Epoch 1/10\n",
            "50/50 [==============================] - 2s 22ms/step - loss: 0.6778 - accuracy: 0.5987 - val_loss: 1.0644 - val_accuracy: 0.6325\n",
            "Epoch 2/10\n",
            "50/50 [==============================] - 0s 6ms/step - loss: 0.6136 - accuracy: 0.7375 - val_loss: 1.3755 - val_accuracy: 0.7250\n",
            "Epoch 3/10\n",
            "50/50 [==============================] - 0s 6ms/step - loss: 0.5327 - accuracy: 0.7850 - val_loss: 1.8436 - val_accuracy: 0.7475\n",
            "Epoch 4/10\n",
            "50/50 [==============================] - 0s 6ms/step - loss: 0.4591 - accuracy: 0.8106 - val_loss: 2.1440 - val_accuracy: 0.7925\n",
            "Epoch 5/10\n",
            "50/50 [==============================] - 0s 6ms/step - loss: 0.4075 - accuracy: 0.8406 - val_loss: 2.6183 - val_accuracy: 0.7750\n",
            "Epoch 6/10\n",
            "50/50 [==============================] - 0s 6ms/step - loss: 0.3682 - accuracy: 0.8444 - val_loss: 2.7961 - val_accuracy: 0.7850\n",
            "Epoch 7/10\n",
            "50/50 [==============================] - 0s 5ms/step - loss: 0.3323 - accuracy: 0.8775 - val_loss: 3.0627 - val_accuracy: 0.7900\n",
            "Epoch 8/10\n",
            "50/50 [==============================] - 0s 6ms/step - loss: 0.3095 - accuracy: 0.8888 - val_loss: 3.3159 - val_accuracy: 0.7875\n",
            "Epoch 9/10\n",
            "50/50 [==============================] - 0s 6ms/step - loss: 0.2882 - accuracy: 0.8888 - val_loss: 3.5510 - val_accuracy: 0.7950\n",
            "Epoch 10/10\n",
            "50/50 [==============================] - 0s 6ms/step - loss: 0.2817 - accuracy: 0.8831 - val_loss: 3.7370 - val_accuracy: 0.7950\n"
          ]
        }
      ],
      "source": [
        "from keras.models import Sequential\n",
        "from keras.losses import categorical_crossentropy\n",
        "from keras.layers import Dense, Dropout\n",
        "\n",
        "\n",
        "model = Sequential()\n",
        "model.add(Dense(64, input_dim=X_train.shape[1], activation='relu'))\n",
        "model.add(Dropout(0.5))  \n",
        "model.add(Dense(y_train.shape[1], activation='softmax'))\n",
        "\n",
        "model.compile(optimizer='adam', loss='categorical_crossentropy', metrics=['accuracy'])\n",
        "\n",
        "history=model.fit(X_train, y_train, epochs = 10, \n",
        "          validation_data=(X_test, y_test),\n",
        "          verbose=1)"
      ]
    },
    {
      "cell_type": "code",
      "execution_count": 22,
      "metadata": {
        "colab": {
          "base_uri": "https://localhost:8080/",
          "height": 299
        },
        "id": "13D__vVeJRez",
        "outputId": "5a5cb25f-24a4-4622-e422-b7f28ab5e77d"
      },
      "outputs": [
        {
          "data": {
            "image/png": "[encoded data removed]",
            "text/plain": [
              "<Figure size 640x480 with 1 Axes>"
            ]
          },
          "metadata": {},
          "output_type": "display_data"
        }
      ],
      "source": [
        "import matplotlib.pyplot as plt\n",
        "num_epochs=10\n",
        "\n",
        "def plot_graphs(H, metric):\n",
        "  plt.style.use(\"ggplot\")\n",
        "  plt.figure()\n",
        "  plt.plot(np.arange(0, num_epochs), H.history[\"loss\"], label=\"train_loss\")\n",
        "  plt.plot(np.arange(0, num_epochs), H.history[\"val_loss\"], label=\"val_loss\")\n",
        "  plt.plot(np.arange(0, num_epochs), H.history[\"accuracy\"], label=\"train_acc\")\n",
        "  plt.plot(np.arange(0, num_epochs), H.history[\"val_accuracy\"], label=\"val_acc\")\n",
        "  plt.title(\"Training Loss and Accuracy\")\n",
        "  plt.xlabel(\"Epoch #\" )\n",
        "  plt.ylabel(\"Loss/Accuracy\" )\n",
        "  plt.legend()\n",
        "  plt.savefig(\"model history\")\n",
        "  plt.show( )\n",
        "plot_graphs(history,'accuracy')"
      ]
    },
    {
      "cell_type": "code",
      "execution_count": 23,
      "metadata": {
        "colab": {
          "base_uri": "https://localhost:8080/"
        },
        "id": "QcUgpqHgnVC_",
        "outputId": "b004fad4-8802-4fb2-96a4-a33af937ce1e"
      },
      "outputs": [
        {
          "name": "stdout",
          "output_type": "stream",
          "text": [
            "13/13 [==============================] - 0s 3ms/step\n",
            "\n",
            "Confusion matrix:\n",
            "[[164  38]\n",
            " [ 44 154]]\n",
            "              precision    recall  f1-score   support\n",
            "\n",
            "           0       0.79      0.81      0.80       202\n",
            "           1       0.80      0.78      0.79       198\n",
            "\n",
            "    accuracy                           0.80       400\n",
            "   macro avg       0.80      0.79      0.79       400\n",
            "weighted avg       0.80      0.80      0.79       400\n",
            "\n"
          ]
        }
      ],
      "source": [
        "from sklearn.metrics import confusion_matrix\n",
        "from sklearn.metrics import classification_report\n",
        " \n",
        "predicted = model.predict(X_test)\n",
        "predicted_label=[np.argmax(each) for each in np.array(predicted)]\n",
        "y_test_label=[np.argmax(each) for each in np.array(y_test)]\n",
        "print(\"\\nConfusion matrix:\")\n",
        "print(confusion_matrix(y_test_label, predicted_label))\n",
        "print(classification_report(y_test_label, predicted_label))"
      ]
    },
    {
      "cell_type": "markdown",
      "metadata": {
        "id": "6W-ndV0SgsuJ"
      },
      "source": [
        "## Task 6: Test For Unseen Text\n",
        "\n",
        "Use the trained model to make predictions on totally unseen text. "
      ]
    },
    {
      "cell_type": "code",
      "execution_count": 24,
      "metadata": {
        "id": "KKPf16ZYgsXf"
      },
      "outputs": [],
      "source": [
        "#use the following text for prediction\n",
        "neg_text=\"Just when you think you’ve seen the worst movie ever made,\\\n",
        "along comes this pile of toxic waste.\"\n",
        "\n",
        "pos_text='This is going to go down as one of 2022’s most entertaining motion pictures.'\n"
      ]
    },
    {
      "cell_type": "markdown",
      "metadata": {},
      "source": [
        "$\\color{cyan}{\\text{Special Note: Since we did both CountVec and TFIDF, when encoding we must take note to do it the same way}}$"
      ]
    },
    {
      "cell_type": "code",
      "execution_count": 25,
      "metadata": {
        "colab": {
          "base_uri": "https://localhost:8080/"
        },
        "id": "6NTrCyEKGtHB",
        "outputId": "0b46f892-cc28-4325-8e8f-61015d49de75"
      },
      "outputs": [],
      "source": [
        "def encode_sentence(input_text):\n",
        "    encoded_text = count_vect.transform([input_text])\n",
        "    encoded_text = encoded_text.toarray()\n",
        "    return encoded_text\n",
        "\n",
        "def prediction(encoded_text):\n",
        "    predictions = model.predict(encoded_text)\n",
        "    predicted_class = np.argmax(predictions)\n",
        "    print(\"The predicted probability is:\", predictions)\n",
        "    print(\"The predicted class is:\", predicted_class)\n",
        "\n",
        "    if predicted_class == 0:\n",
        "        print(\"The provided text is classified as: Negative\")\n",
        "    else:\n",
        "        print(\"The provided text is classified as: Positive\")\n"
      ]
    },
    {
      "cell_type": "code",
      "execution_count": 26,
      "metadata": {},
      "outputs": [
        {
          "name": "stdout",
          "output_type": "stream",
          "text": [
            "1/1 [==============================] - 0s 58ms/step\n",
            "The predicted probability is: [[0.99454534 0.00545467]]\n",
            "The predicted class is: 0\n",
            "The provided text is classified as: Negative\n",
            "1/1 [==============================] - 0s 62ms/step\n",
            "The predicted probability is: [[0.23449753 0.76550245]]\n",
            "The predicted class is: 1\n",
            "The provided text is classified as: Positive\n"
          ]
        }
      ],
      "source": [
        "# Do your prediction here\n",
        "\n",
        "negative = encode_sentence(neg_text)\n",
        "prediction(negative)\n",
        "\n",
        "positive = encode_sentence(pos_text)\n",
        "prediction(positive)"
      ]
    },
    {
      "cell_type": "markdown",
      "metadata": {
        "id": "60cUu1h7Ktxr"
      },
      "source": [
        "## Task 7: Apply Cosine Similarity To Find Similar Texts\n",
        "\n",
        "Based on the given unseen positive and negative text previously, find the top most similar sentences from the training dataset. \n",
        "\n",
        "Reminder: Please note that you have to use the same fitted \"tfidf\" model to perform feature extraction of your texts. "
      ]
    },
    {
      "cell_type": "code",
      "execution_count": 31,
      "metadata": {
        "colab": {
          "base_uri": "https://localhost:8080/"
        },
        "id": "a9xc4odTQz42",
        "outputId": "055922c3-8e96-4558-da3b-9e2875c8d718"
      },
      "outputs": [
        {
          "name": "stdout",
          "output_type": "stream",
          "text": [
            "\n",
            "New Text To Predict:\n",
            " \"This is going to go down as one of 2022’s most entertaining motion pictures.\"\n",
            "[[0.05449976 0.11064599 0.05817177 ... 0.05630106 0.03199308 0.01926579]] <class 'numpy.ndarray'> (1, 2000)\n",
            "488\n",
            "0.5350799652161181\n",
            "go glorious slick hip machin  director liman  also photograph go  screenwrit august celebr drugrav scene l    prefer take  comed  snapshot troubl youth rather critiqu  nineti minut pillpop  tantric sex  car chase  attempt murder  go even ha happi end  thi sort film give member dove foundat split headach  go wound  anticip antipillpoppingcasualtantricsexcarchaseattemptedmurd sermon  blessedli  nt arriv  la tarantino pulp fiction  go compris three separ relat stori  basic follow  ronna  polley  bitter groceri store clerk face evict turn drug deal extra dough  cowork  simon  improb name askew   clubber britain ecstat hi first trip vega  zack  mohr  adam  wolf  soap opera star escap careerthreaten convict assist peculiar cop  fichtner  drug bust  perhap becaus innov structur tarantino nonlinear masterwork old hat  idfuel go delight rare surpris  except mindread cat    pulp fiction zigzag road unforeseen  see go wheel turn first flash frame last  torontonian polley  sweet hereaft  refus public thi pictur basi wa  pleas  turn illfat cashier  go  deliv  handsdown  best perform date   overr  actress agre appear poster  support team junket interview  thi sort arrog commonplac ms  polley  anyon ha read polit agenda canadian press tell  doe nt want ingenu moment  said    go  digress  go fun film  chipperli deprav one ca nt help turn hi moral judgment durat enjoy ride  sens  departur liman last film  swinger  least lectur selfabsorpt form vinc vaughan trent hi subtl comeupp stori clever epilogu  ha ape mcdonald latest commerci   wish care go charact  like techno music listen  band anarchist display onc absorb vacuou  light came stung eye  wa difficult recal entertain  yet entertain  go light frothi  featur compel endear work polley  timothi olyph  scream 2   especi fichtner  whose homoerot behavior milk effect laugh  fichtner charact actor best known play backstabb  heat  armageddon    hi previous untap comic abil shine go  unlik much film  fichtner unpredict \n",
            "\n",
            "New Text To Predict:\n",
            " \"Just when you think you’ve seen the worst movie ever made,along comes this pile of toxic waste.\"\n",
            "[[0.09101421 0.13960485 0.09711728 ... 0.05525372 0.04273756 0.0825303 ]] <class 'numpy.ndarray'> (1, 2000)\n",
            "396\n",
            "0.33033417399530857\n",
            "realli start wonder alicia silverston  sure  one beauti creatur god green earth  second onli movi critic larg guy   come choos movi star  alway strike  crush wa slowmov  predict piec fluff  hideaway wa horrif novel adapt alicia onli minor role  clueless wa annoy  unfunni wast time  peopl email  say clueless good movi onli one doe nt like  one girl said seen movi  open mind   would enjoy  noth could truth  went theater expect love movi  preview look good cours crazymadinlov alicia  movi wa bunch bad joke come whini  unlik charact  almost everyon saw movi felt way  walk theater  one guy  wa nt  yell   wa worst f     movi ever seen  rest us laugh agreement  last night walk video store saw alicia pretti face cover madeforvideo thriller call babysitt  knew would bad inner compuls probabl never understand made rent anyway  got wa 90 minut regret  worst alicia silverston movi ever  alreadi know last paragraph competit like  begin critic thi movi  plot thin shred move slower glacier  write could done  know wa  ten year old  alicia star still wast movi ha appeal whatsoev  zero humor  zero suspens  zero drama zero action  last ten minut  stori needlessli pointlessli conclud violent sequenc  zero plu zero plu zero plu zero equal zero  whi doe thi movi get one star  well  alicia spend twenti minut movi bathtub  wa nt bubbl bath  babysitt would instantli join rank four star featur  settl get  alicia play babysitt spend friday night look two kid whose parent get drunk cocktail parti  cours anyon beauti alicia automat spend friday night home  least movi critic larg guy doe   movi trod along  discov onli mostlysil star movi also object everi male charact fantasi  probabl everi male viewer   drunken father think thing recaptur hi lost youth  boyfriend let hi imagin run wild spi alicia outsid  even prepubesc boy look alicia bathroom keyhol take bubbl bath  even throw middl age wife fantasi male counterpart parti  ani us ask ever even thought see thi 200 pound woman black silk teddi  least none sex fanatasi ever leav realm pgrate  fact  could imagin babysitt becom cinemax latenight stapl fact absolut nuditi  ca nt call sex flick  alreadi point ca nt fall drama  comedi  thriller action  classifi babysitt  bad \n"
          ]
        }
      ],
      "source": [
        "from sklearn.metrics.pairwise import cosine_similarity\n",
        "\n",
        "neg_text=\"Just when you think you’ve seen the worst movie ever made,\\\n",
        "along comes this pile of toxic waste.\"\n",
        "\n",
        "pos_text='This is going to go down as one of 2022’s most entertaining motion pictures.'\n",
        "\n",
        "def findSimiarlTextModel(pos_text,neg_text,count_vect,tfidfier, model):\n",
        "  for text in [pos_text,neg_text]:\n",
        "\n",
        "    processed_NewText=process_text(text)\n",
        "    \n",
        "    print(\"\\nNew Text To Predict:\\n\",\"\\\"\"+text+\"\\\"\")\n",
        "    \n",
        "    t=tfidfier.transform(count_vect.transform([processed_NewText]))\n",
        "\n",
        "    text_for_prediction=t.toarray()\n",
        "\n",
        "    originalText_numerical = tfidfier.transform(count_vect.transform(processed_reviews)).toarray()\n",
        "\n",
        "    \n",
        "    vals=cosine_similarity(text_for_prediction, originalText_numerical)\n",
        "\n",
        "    \n",
        "    print(vals, type(vals), vals.shape)\n",
        "    vals=vals.reshape(-1)\n",
        "    print(vals.argsort()[-1]) \n",
        "    print(vals[vals.argsort()[-1]])\n",
        "    print(processed_reviews[vals.argsort()[-1]])\n",
        "\n",
        "findSimiarlTextModel(pos_text,neg_text,count_vect,tfidfier, model)\n"
      ]
    },
    {
      "cell_type": "markdown",
      "metadata": {
        "id": "s6iotHiD3oJh"
      },
      "source": [
        "---\n",
        "\n",
        "**End of Project**\n",
        "\n",
        "---"
      ]
    },
    {
      "cell_type": "code",
      "execution_count": null,
      "metadata": {
        "id": "aCtSLYx3NYom"
      },
      "outputs": [],
      "source": []
    }
  ],
  "metadata": {
    "colab": {
      "collapsed_sections": [],
      "provenance": [],
      "toc_visible": true
    },
    "kernelspec": {
      "display_name": "Python 3 (ipykernel)",
      "language": "python",
      "name": "python3"
    },
    "language_info": {
      "codemirror_mode": {
        "name": "ipython",
        "version": 3
      },
      "file_extension": ".py",
      "mimetype": "text/x-python",
      "name": "python",
      "nbconvert_exporter": "python",
      "pygments_lexer": "ipython3",
      "version": "3.10.13"
    }
  },
  "nbformat": 4,
  "nbformat_minor": 0
}
